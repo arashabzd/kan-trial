{
 "cells": [
  {
   "cell_type": "markdown",
   "metadata": {},
   "source": [
    "# B-spline Curves\n",
    "\n",
    "## Theory\n",
    "\n",
    "> reference: [B-splines curves and surfaces](https://web.mit.edu/hyperbook/Patrikalakis-Maekawa-Cho/node15.html)\n",
    "\n",
    "### Basis Functions\n",
    "\n",
    "Basis functions are basic building blocks of all the functions in a function space. Every function in the function space can be represented as a linear combination of its basis functions.\n",
    "\n",
    "> Think of exponentials that are basis functions of any periodic function that has a fourier series.\n",
    "\n",
    "### Spline\n",
    "\n",
    "A spline is a piecewise polynomial function $S: [a, b] \\rightarrow \\mathbb{R}$ with $m+1$ knots $t = [t_0, ..., t_m]$ where $a=t_0\\le t_1 \\le ... \\le t_m=b$ and:\n",
    "\n",
    "$$S(x) = P_i(x), \\qquad x\\in[t_i, t_{i+1})$$\n",
    "\n",
    "for $i=0,..,m-1$.\n",
    "\n",
    "If the polynomial pieces $P_i$ each have degree at most $p$, then the spline is said to be of degree $p$ or of order $p+1$.\n",
    "\n",
    "### B-spline\n",
    "\n",
    "A B-spline (basis spline) of order $p+1$ is a piecewise polynomial function $B_{i, k}(x)$ of degree $p$. B-splines are basis functions for spline functions of the same order and are defined as:\n",
    "\n",
    "$$B_{i, 0}(x) = 1,\\qquad if~x\\in[t_i,t_{i+1}),~o.w.~0$$\n",
    "\n",
    "and recursively:\n",
    "\n",
    "$$B_{i, p}(x) = \\frac{x - t_i}{t_{i+p}-t_i}B_{i, p-1}(x) + \\frac{t_{i+p+1} - x}{t_{i+p+1}-t_{i+1}}B_{i+1, p-1}(x)$$\n",
    "\n",
    "for $p > 0$, and $i=0,...,n-1$ , and $t = [t_0, ..., t_{n+p}]$.\n",
    "\n",
    "### B-spline Curve\n",
    "\n",
    "A B-spline curve is defined as a linear combination of B-spline basis functions with the knot vector $t = [t_0,..,t_p,..,t_n,..t_{n+p}]$:\n",
    "\n",
    "$$S(x) = \\sum_{i=0}^{n - 1} c_i B_{i, p}(x), \\qquad x\\in[t_{p}, t_{n}]: \\text{internal knots}$$\n",
    "\n",
    "with $n > p$."
   ]
  },
  {
   "cell_type": "markdown",
   "metadata": {},
   "source": [
    "## Implementation"
   ]
  },
  {
   "cell_type": "code",
   "execution_count": null,
   "metadata": {},
   "outputs": [],
   "source": [
    "import numpy as np\n",
    "from matplotlib import pyplot as plt"
   ]
  },
  {
   "cell_type": "markdown",
   "metadata": {},
   "source": [
    "### Scaler"
   ]
  },
  {
   "cell_type": "code",
   "execution_count": null,
   "metadata": {},
   "outputs": [],
   "source": [
    "def b(x, i, p, t):\n",
    "    if p == 0:\n",
    "        return 1 if t[i] <= x < t[i + 1] else 0\n",
    "    c_1 = (x - t[i]) / (t[i + p] - t[i])\n",
    "    c_2 = (t[i + p + 1] - x) / (t[i + p + 1] - t[i + 1])\n",
    "    b_ip = c_1 * b(x, i, p - 1, t) + c_2 * b(x, i + 1, p - 1, t)\n",
    "    return b_ip\n",
    "\n",
    "\n",
    "def b_curve(x, c, p, t):\n",
    "    return sum([ci * b(x, i, p, t) for i, ci in enumerate(c)])"
   ]
  },
  {
   "cell_type": "code",
   "execution_count": null,
   "metadata": {},
   "outputs": [],
   "source": [
    "p = 3  # dgree of polynomials\n",
    "n = 6  # number of basis functions (> p)\n",
    "m = n + p + 1  # number of knots\n",
    "t = np.linspace(0, 1, m)  # uniform knot vector (t[p:n+1] are called internal knots)\n",
    "x = np.linspace(t[0], t[-1], 100)\n",
    "\n",
    "fig, ax = plt.subplots(figsize=(16, 4))\n",
    "for i in range(n):\n",
    "    y = [b(xi, i, p, t) for xi in x]\n",
    "    ax.plot(x, y, label=f\"i={i}\")\n",
    "ax.axvspan(t[p], t[n], color=\"gray\", alpha=0.3, label=\"Internal Knots\")\n",
    "ax.set_title(\n",
    "    \"B-spline basis functions of degree 3 with Uniform Knots\", fontsize=\"medium\"\n",
    ")\n",
    "ax.legend(fontsize=\"small\")\n",
    "fig.tight_layout()"
   ]
  },
  {
   "cell_type": "code",
   "execution_count": null,
   "metadata": {},
   "outputs": [],
   "source": [
    "fig, ax = plt.subplots(4, 4, figsize=(12, 12), sharex=True, sharey=True)\n",
    "ax = ax.flatten()\n",
    "\n",
    "for i in range(16):\n",
    "    c = np.random.random(n)\n",
    "    y = [b_curve(xi, c, p, t) for xi in x]\n",
    "    ax[i].plot(x, y)\n",
    "    ax[i].axvspan(t[p], t[n], color=\"gray\", alpha=0.3)\n",
    "fig.suptitle(\"Random B-spline curves of degree 3 with uniform knots\")\n",
    "fig.tight_layout()"
   ]
  },
  {
   "cell_type": "markdown",
   "metadata": {},
   "source": [
    "### Batch\n",
    "\n",
    "If x is a batch of shape $(N, d)$, with simple modification we can have the batched version of the basis functions."
   ]
  },
  {
   "cell_type": "code",
   "execution_count": null,
   "metadata": {},
   "outputs": [],
   "source": [
    "def b_batch(x, i, p, t):\n",
    "    if p == 0:\n",
    "        out = (t[i] <= x) * (x < t[i + 1])\n",
    "        return out.astype(int)\n",
    "    c_1 = (x - t[i]) / (t[i + p] - t[i])\n",
    "    c_2 = (t[i + p + 1] - x) / (t[i + p + 1] - t[i + 1])\n",
    "    b_ip = c_1 * b_batch(x, i, p - 1, t) + c_2 * b_batch(x, i + 1, p - 1, t)\n",
    "    return b_ip"
   ]
  },
  {
   "cell_type": "markdown",
   "metadata": {},
   "source": [
    "### Batch for all bases "
   ]
  },
  {
   "cell_type": "code",
   "execution_count": null,
   "metadata": {},
   "outputs": [],
   "source": [
    "# For all i = 0, ..., n-1\n",
    "def b_vectorized(x, p, t):\n",
    "    m = t.shape[0]\n",
    "    n = m - p - 1\n",
    "    t = t.reshape(-1, 1, 1)\n",
    "    if p == 0:\n",
    "        out = (t[:-1] <= x) * (x < t[1:])\n",
    "        return out.astype(int)\n",
    "\n",
    "    c_1 = (x - t[:n]) / (t[p : p + n] - t[:n])\n",
    "    c_2 = (t[p + 1 : n + p + 1] - x) / (t[p + 1 : n + p + 1] - t[1 : n + 1])\n",
    "    b_pm1 = b_vectorized(x, p - 1, t)\n",
    "    b_p = c_1 * b_pm1[:-1] + c_2 * b_pm1[1:]\n",
    "    return b_p"
   ]
  },
  {
   "cell_type": "code",
   "execution_count": null,
   "metadata": {},
   "outputs": [],
   "source": [
    "p = 3  # dgree\n",
    "n = 6  # number of basis functions (> p)\n",
    "m = n + p + 1  # number of knots\n",
    "N = 16  # batch size\n",
    "d = 8  #\n",
    "t = np.linspace(0, 1, m)  # uniform knot vector (t[p:n+1] are called internal knots)\n",
    "x = np.random.random((N, d))\n",
    "B = b_vectorized(x, p, t)\n",
    "B.shape"
   ]
  },
  {
   "cell_type": "markdown",
   "metadata": {},
   "source": [
    "### Batch for all bases with different knot vectors"
   ]
  },
  {
   "cell_type": "code",
   "execution_count": null,
   "metadata": {},
   "outputs": [],
   "source": [
    "def b_vectorized(x, p, t):\n",
    "    m, d = t.shape\n",
    "    n = m - p - 1\n",
    "    t_ = t.reshape(m, 1, d)\n",
    "    if p == 0:\n",
    "        out = (t_[:-1] <= x) * (x < t_[1:])\n",
    "        return out.astype(int)\n",
    "\n",
    "    c_1 = (x - t_[:n]) / (t_[p : p + n] - t_[:n])\n",
    "    c_2 = (t_[p + 1 : n + p + 1] - x) / (t_[p + 1 : n + p + 1] - t_[1 : n + 1])\n",
    "    b_pm1 = b_vectorized(x, p - 1, t)\n",
    "    b_p = c_1 * b_pm1[:-1] + c_2 * b_pm1[1:]\n",
    "    return b_p"
   ]
  },
  {
   "cell_type": "code",
   "execution_count": null,
   "metadata": {},
   "outputs": [],
   "source": [
    "p = 3  # dgree\n",
    "n = 6  # number of basis functions (> p)\n",
    "m = n + p + 1  # number of knots\n",
    "N = 16  # batch size\n",
    "d = 8  #\n",
    "t = np.sort(\n",
    "    np.random.random((m, d)), axis=1\n",
    ")  # uniform knot vector (t[p:n+1] are called internal knots)\n",
    "x = np.random.random((N, d))\n",
    "B = b_vectorized(x, p, t)\n",
    "B.shape"
   ]
  }
 ],
 "metadata": {
  "language_info": {
   "name": "python"
  }
 },
 "nbformat": 4,
 "nbformat_minor": 2
}
