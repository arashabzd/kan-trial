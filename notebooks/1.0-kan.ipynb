{
 "cells": [
  {
   "cell_type": "markdown",
   "metadata": {},
   "source": [
    "# KAN: Kolmogorov–Arnold Networks\n",
    "\n",
    "- [KAN: Kolmogorov-Arnold Networks](https://arxiv.org/abs/2404.19756)\n",
    "- [PyKAN](https://kindxiaoming.github.io/pykan/)\n",
    "- [Kolmogorov–Arnold representation theorem](https://en.wikipedia.org/wiki/Kolmogorov–Arnold_representation_theorem)\n"
   ]
  },
  {
   "cell_type": "markdown",
   "metadata": {},
   "source": [
    "## Kolmogorov-Arnold Representation Theorem\n",
    "\n",
    "if $f$ is a multivariate continuous function on a __bounded domain__ $f: [0, 1]^n \\rightarrow \\mathbb{R}$, then $f$ can be written as:\n",
    "\n",
    "$$f(x_1, ..., x_n) = \\sum_{q=1}^m \\phi^{(1)}_{q, 1} \\sum_{p=1}^n \\phi^{(0)}_{q, p}(x_p)$$\n",
    "\n",
    "where $\\phi^{(0)}: [0, 1]\\rightarrow\\mathbb{R}$ and $\\phi^{(1)}: \\mathbb{R}\\rightarrow\\mathbb{R}$.\n",
    "\n",
    "__*__ In the original form $m=2n+1$."
   ]
  }
 ],
 "metadata": {
  "language_info": {
   "name": "python"
  }
 },
 "nbformat": 4,
 "nbformat_minor": 2
}
