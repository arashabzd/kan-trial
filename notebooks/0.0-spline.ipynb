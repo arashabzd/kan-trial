{
 "cells": [
  {
   "cell_type": "markdown",
   "metadata": {},
   "source": [
    "# Spline\n",
    "\n",
    "A spline is a piecewise polynomial function $S: [a, b] \\rightarrow \\mathbb{R}$ with $k+1$ __knots__ $(t_0, ..., t_k)$ where $a=t_0\\le t_1 \\le ... \\le t_k=b$ and:\n",
    "\n",
    "$$S(t) = P_i(t), \\qquad t_i \\le t \\lt t_{i+1}$$\n",
    "\n",
    "for $i=0,..,k-1$.\n",
    "\n",
    "If the polynomial pieces $P_i$ each have degree at most $n$, then the spline is said to be of __degree ≤ n__ (or of __order n + 1__)."
   ]
  },
  {
   "cell_type": "markdown",
   "metadata": {},
   "source": [
    "## B-spline\n",
    "\n",
    "B-splines of order $n$ are basis functions for spline functions of the same order defined over the same knots, meaning that all possible spline functions can be built from a linear combination of B-splines, and there is only one unique combination for each spline function.\n",
    "\n"
   ]
  },
  {
   "cell_type": "code",
   "execution_count": null,
   "metadata": {},
   "outputs": [],
   "source": [
    "def B(x, k, i, t):\n",
    "    if k == 0:\n",
    "        return 1.0 if t[i] <= x < t[i + 1] else 0.0\n",
    "    if t[i + k] == t[i]:\n",
    "        c1 = 0.0\n",
    "    else:\n",
    "        c1 = (x - t[i]) / (t[i + k] - t[i]) * B(x, k - 1, i, t)\n",
    "    if t[i + k + 1] == t[i + 1]:\n",
    "        c2 = 0.0\n",
    "    else:\n",
    "        c2 = (t[i + k + 1] - x) / (t[i + k + 1] - t[i + 1]) * B(x, k - 1, i + 1, t)\n",
    "    return c1 + c2"
   ]
  }
 ],
 "metadata": {
  "language_info": {
   "name": "python"
  }
 },
 "nbformat": 4,
 "nbformat_minor": 2
}
