{
 "cells": [
  {
   "cell_type": "markdown",
   "metadata": {},
   "source": [
    "# Basics\n",
    "\n",
    "## Basis Functions\n",
    "\n",
    "Basis functions are basic building blocks of all the functions in a function space. Every function in the function space can be represented as a linear combination of its basis functions.\n",
    "\n",
    "> Think of exponentials that are basis functions of any periodic function that has a fourier series.\n",
    "\n",
    "## Spline\n",
    "\n",
    "A spline is a piecewise polynomial function $S: [a, b] \\rightarrow \\mathbb{R}$ with $m+1$ knots $t = [t_0, ..., t_m]$ where $a=t_0\\le t_1 \\le ... \\le t_m=b$ and:\n",
    "\n",
    "$$S(x) = P_i(x), \\qquad x\\in[t_i, t_{i+1})$$\n",
    "\n",
    "for $i=0,..,m-1$.\n",
    "\n",
    "If the polynomial pieces $P_i$ each have degree at most $k-1$, then the spline is said to be of degree $k-1$ or of order $k$.\n",
    "\n",
    "## B-spline\n",
    "\n",
    "A B-spline (basis spline) of order $k$ is a piecewise polynomial function $B_{i, k}(x)$ of degree $k-1$. B-splines are basis functions for spline functions of the same order and are defined as:\n",
    "\n",
    "$$B_{i, 1}(x) = 1,\\qquad if~x\\in[t_i,t_{i+1}),~o.w.~0$$\n",
    "\n",
    "and recursively:\n",
    "\n",
    "$$B_{i, k}(x) = \\frac{x - t_i}{t_{i+k-1}-t_i}B_{i, k-1}(x) + \\frac{t_{i+k} - x}{t_{i+k}-t_{i+1}}B_{i+1, k-1}(x)$$\n",
    "\n",
    "for $k > 1$, and $i=0,...,n$ , and $t = [t_0, ..., t_{n+k}]$.\n",
    "\n",
    "## B-spline Curve\n",
    "\n",
    "A B-spline curve is defined as a linear combination of B-spline basis functions with the knot vector $t = [t_0,..,t_k,..,t_n,..t_{n+k}]$:\n",
    "\n",
    "$$S(x) = \\sum_{i=0}^{n} c_i B_{i, k}(x), \\qquad x\\in[t_{k-1}, t_{n+1}]$$\n",
    "\n",
    "with $n \\ge k-1$.\n",
    "\n",
    "> reference: [B-splines curves and surfaces](https://web.mit.edu/hyperbook/Patrikalakis-Maekawa-Cho/node15.html)"
   ]
  },
  {
   "cell_type": "code",
   "execution_count": null,
   "metadata": {},
   "outputs": [],
   "source": [
    "import numpy as np\n",
    "from matplotlib import pyplot as plt"
   ]
  },
  {
   "cell_type": "code",
   "execution_count": null,
   "metadata": {},
   "outputs": [],
   "source": [
    "def b(x, i, k, t):\n",
    "    if k == 1:\n",
    "        return 1 if t[i] <= x < t[i + 1] else 0\n",
    "    c_1 = (x - t[i]) / (t[i + k - 1] - t[i])\n",
    "    c_2 = (t[i + k] - x) / (t[i + k] - t[i + 1])\n",
    "    b_ik = c_1 * b(x, i, k - 1, t) + c_2 * b(x, i + 1, k - 1, t)\n",
    "    return b_ik"
   ]
  },
  {
   "cell_type": "code",
   "execution_count": null,
   "metadata": {},
   "outputs": [],
   "source": [
    "k = 4\n",
    "n = 6\n",
    "m = n + k + 1\n",
    "t_uniform = np.linspace(0, 1, m)\n",
    "\n",
    "t_random = np.random.random(m)\n",
    "t_random.sort()\n",
    "\n",
    "fig, ax = plt.subplots(2, figsize=(16, 2 * 4))\n",
    "for i in range(n + 1):\n",
    "    x = np.linspace(t_uniform[k - 1], t_uniform[n + 1], 100)\n",
    "    y = [b(xi, i, k, t_uniform) for xi in x]\n",
    "    ax[0].plot(x, y, label=f\"i={i}\")\n",
    "    ax[0].set_title(\"Uniform Knots\")\n",
    "    ax[0].legend()\n",
    "for i in range(n + 1):\n",
    "    x = np.linspace(t_random[k - 1], t_random[n + 1], 100)\n",
    "    y = [b(xi, i, k, t_random) for xi in x]\n",
    "    ax[1].plot(x, y, label=f\"i={i}\")\n",
    "    ax[1].set_title(\"Random Knots\")\n",
    "    ax[1].legend()\n",
    "fig.suptitle(\"B-spline basis functions of order 4\")\n",
    "fig.tight_layout()"
   ]
  },
  {
   "cell_type": "code",
   "execution_count": null,
   "metadata": {},
   "outputs": [],
   "source": [
    "def b_curve(x, c, k, t):\n",
    "    return sum([ci * b(x, i, k, t) for i, ci in enumerate(c)])\n",
    "\n",
    "\n",
    "k = 4\n",
    "n = 6\n",
    "m = n + k + 1\n",
    "t = np.linspace(0, 1, m)\n",
    "\n",
    "fig, ax = plt.subplots(4, 4, figsize=(12, 12), sharex=True, sharey=True)\n",
    "ax = ax.flatten()\n",
    "\n",
    "for i in range(16):\n",
    "    c = np.random.random(n + 1)\n",
    "    x = np.linspace(t_uniform[k - 1], t_uniform[n + 1], 100)\n",
    "    y = [b_curve(xi, c, k, t) for xi in x]\n",
    "    ax[i].plot(x, y)\n",
    "fig.suptitle(\"Random B-spline curves of order 4 with uniform knots\")\n",
    "fig.tight_layout()"
   ]
  }
 ],
 "metadata": {
  "language_info": {
   "name": "python"
  }
 },
 "nbformat": 4,
 "nbformat_minor": 2
}
