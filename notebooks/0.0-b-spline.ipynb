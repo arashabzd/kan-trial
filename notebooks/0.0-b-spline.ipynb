{
 "cells": [
  {
   "cell_type": "markdown",
   "metadata": {},
   "source": [
    "# Spline\n",
    "\n",
    "A spline is a piecewise polynomial function $S: [a, b] \\rightarrow \\mathbb{R}$ with $n+1$ knots $t = [t_0, ..., t_m]$ where $a=t_0\\le t_1 \\le ... \\le t_m=b$ and:\n",
    "\n",
    "$$S(x) = P_i(x), \\qquad t_i \\le x \\lt t_{i+1}$$\n",
    "\n",
    "for $i=0,..,m-1$.\n",
    "\n",
    "If the polynomial pieces $P_i$ each have degree at most $k$, then the spline is said to be of degree $k$ (or of order $k+1$)."
   ]
  },
  {
   "cell_type": "markdown",
   "metadata": {},
   "source": [
    "## B-spline\n",
    "\n",
    "A B-spline of order $k+1$ is a collection of piecewise polynomial functions $B_{i, k}(x)$ of degree $k$. B-splines are __basis functions__ for spline functions of the same order defined over the same knots, meaning that all possible spline functions can be built from a linear combination of B-splines, and there is only one unique combination for each spline function.\n",
    "\n",
    "$$B_{i, 0}(x) = 1\\qquad if~(t_i \\le x \\lt t_{i+1}),~o.w.~0$$\n",
    "\n",
    "and recursively:\n",
    "\n",
    "$$B_{i, k}(x) = \\frac{x - t_i}{t_{i+k}-t_i}B_{i, k-1}(x) + \\frac{t_{i+k+1} - x}{t_{i+k+1}-t_{i+1}}B_{i+1, k-1}(x)$$"
   ]
  },
  {
   "cell_type": "markdown",
   "metadata": {},
   "source": [
    "## B-spline Curve\n",
    "\n",
    "A B-spline curve is defined as a linear combination of B-spline basis functions with the knot vector $t = [t_0,..,t_k,..,t_n,..t_{n+k}]$ as $S: [t_k, t_n]\\rightarrow\\mathbb{R}$:\n",
    "\n",
    "$$S(x) = \\sum_{i=0}^{n-1} c_i B_{i, k}(x)$$"
   ]
  }
 ],
 "metadata": {
  "language_info": {
   "name": "python"
  }
 },
 "nbformat": 4,
 "nbformat_minor": 2
}
